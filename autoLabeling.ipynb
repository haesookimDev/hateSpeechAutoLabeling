{
  "nbformat": 4,
  "nbformat_minor": 0,
  "metadata": {
    "colab": {
      "name": "autoLabeling.ipynb",
      "provenance": [],
      "authorship_tag": "ABX9TyNp57ii9lYRzl0WziIZmGkz",
      "include_colab_link": true
    },
    "kernelspec": {
      "name": "python3",
      "display_name": "Python 3"
    },
    "language_info": {
      "name": "python"
    },
    "accelerator": "TPU"
  },
  "cells": [
    {
      "cell_type": "markdown",
      "metadata": {
        "id": "view-in-github",
        "colab_type": "text"
      },
      "source": [
        "<a href=\"https://colab.research.google.com/github/ww232330/hateSpeechAutoLabeling/blob/main/autoLabeling.ipynb\" target=\"_parent\"><img src=\"https://colab.research.google.com/assets/colab-badge.svg\" alt=\"Open In Colab\"/></a>"
      ]
    },
    {
      "cell_type": "code",
      "metadata": {
        "id": "2hX3e6OYv8y5"
      },
      "source": [
        "from tensorflow.keras.models import load_model\n",
        "from tensorflow.keras.preprocessing.text import tokenizer_from_json\n",
        "from tensorflow.keras.preprocessing.sequence import pad_sequences\n",
        "import json"
      ],
      "execution_count": null,
      "outputs": []
    },
    {
      "cell_type": "code",
      "metadata": {
        "id": "HH6OMMxawOF4"
      },
      "source": [
        "import pandas as pd\n",
        "import numpy as np\n",
        "import matplotlib.pyplot as plt"
      ],
      "execution_count": null,
      "outputs": []
    },
    {
      "cell_type": "code",
      "metadata": {
        "colab": {
          "base_uri": "https://localhost:8080/"
        },
        "id": "G75vJSSIxzHl",
        "outputId": "3293ecaa-d7c5-4d2c-d5cc-72e6c6d1efa4"
      },
      "source": [
        "import tensorflow as tf\n",
        "import os\n",
        "\n",
        "resolver = tf.distribute.cluster_resolver.TPUClusterResolver(tpu='grpc://' + os.environ['COLAB_TPU_ADDR'])\n",
        "\n",
        "tf.config.experimental_connect_to_cluster(resolver)\n",
        "tf.tpu.experimental.initialize_tpu_system(resolver)"
      ],
      "execution_count": null,
      "outputs": [
        {
          "output_type": "stream",
          "text": [
            "INFO:tensorflow:Initializing the TPU system: grpc://10.94.230.194:8470\n"
          ],
          "name": "stdout"
        },
        {
          "output_type": "stream",
          "text": [
            "INFO:tensorflow:Initializing the TPU system: grpc://10.94.230.194:8470\n"
          ],
          "name": "stderr"
        },
        {
          "output_type": "stream",
          "text": [
            "INFO:tensorflow:Clearing out eager caches\n"
          ],
          "name": "stdout"
        },
        {
          "output_type": "stream",
          "text": [
            "INFO:tensorflow:Clearing out eager caches\n"
          ],
          "name": "stderr"
        },
        {
          "output_type": "stream",
          "text": [
            "INFO:tensorflow:Finished initializing TPU system.\n"
          ],
          "name": "stdout"
        },
        {
          "output_type": "stream",
          "text": [
            "INFO:tensorflow:Finished initializing TPU system.\n"
          ],
          "name": "stderr"
        },
        {
          "output_type": "execute_result",
          "data": {
            "text/plain": [
              "<tensorflow.python.tpu.topology.Topology at 0x7faf9a728310>"
            ]
          },
          "metadata": {
            "tags": []
          },
          "execution_count": 13
        }
      ]
    },
    {
      "cell_type": "code",
      "metadata": {
        "colab": {
          "base_uri": "https://localhost:8080/"
        },
        "id": "CLYiIYbox0dK",
        "outputId": "a5d149a8-ca22-483c-fa8c-896d3e11bbbd"
      },
      "source": [
        "strategy = tf.distribute.TPUStrategy(resolver)"
      ],
      "execution_count": null,
      "outputs": [
        {
          "output_type": "stream",
          "text": [
            "INFO:tensorflow:Found TPU system:\n"
          ],
          "name": "stdout"
        },
        {
          "output_type": "stream",
          "text": [
            "INFO:tensorflow:Found TPU system:\n"
          ],
          "name": "stderr"
        },
        {
          "output_type": "stream",
          "text": [
            "INFO:tensorflow:*** Num TPU Cores: 8\n"
          ],
          "name": "stdout"
        },
        {
          "output_type": "stream",
          "text": [
            "INFO:tensorflow:*** Num TPU Cores: 8\n"
          ],
          "name": "stderr"
        },
        {
          "output_type": "stream",
          "text": [
            "INFO:tensorflow:*** Num TPU Workers: 1\n"
          ],
          "name": "stdout"
        },
        {
          "output_type": "stream",
          "text": [
            "INFO:tensorflow:*** Num TPU Workers: 1\n"
          ],
          "name": "stderr"
        },
        {
          "output_type": "stream",
          "text": [
            "INFO:tensorflow:*** Num TPU Cores Per Worker: 8\n"
          ],
          "name": "stdout"
        },
        {
          "output_type": "stream",
          "text": [
            "INFO:tensorflow:*** Num TPU Cores Per Worker: 8\n"
          ],
          "name": "stderr"
        },
        {
          "output_type": "stream",
          "text": [
            "INFO:tensorflow:*** Available Device: _DeviceAttributes(/job:localhost/replica:0/task:0/device:CPU:0, CPU, 0, 0)\n"
          ],
          "name": "stdout"
        },
        {
          "output_type": "stream",
          "text": [
            "INFO:tensorflow:*** Available Device: _DeviceAttributes(/job:localhost/replica:0/task:0/device:CPU:0, CPU, 0, 0)\n"
          ],
          "name": "stderr"
        },
        {
          "output_type": "stream",
          "text": [
            "INFO:tensorflow:*** Available Device: _DeviceAttributes(/job:worker/replica:0/task:0/device:CPU:0, CPU, 0, 0)\n"
          ],
          "name": "stdout"
        },
        {
          "output_type": "stream",
          "text": [
            "INFO:tensorflow:*** Available Device: _DeviceAttributes(/job:worker/replica:0/task:0/device:CPU:0, CPU, 0, 0)\n"
          ],
          "name": "stderr"
        },
        {
          "output_type": "stream",
          "text": [
            "INFO:tensorflow:*** Available Device: _DeviceAttributes(/job:worker/replica:0/task:0/device:TPU:0, TPU, 0, 0)\n"
          ],
          "name": "stdout"
        },
        {
          "output_type": "stream",
          "text": [
            "INFO:tensorflow:*** Available Device: _DeviceAttributes(/job:worker/replica:0/task:0/device:TPU:0, TPU, 0, 0)\n"
          ],
          "name": "stderr"
        },
        {
          "output_type": "stream",
          "text": [
            "INFO:tensorflow:*** Available Device: _DeviceAttributes(/job:worker/replica:0/task:0/device:TPU:1, TPU, 0, 0)\n"
          ],
          "name": "stdout"
        },
        {
          "output_type": "stream",
          "text": [
            "INFO:tensorflow:*** Available Device: _DeviceAttributes(/job:worker/replica:0/task:0/device:TPU:1, TPU, 0, 0)\n"
          ],
          "name": "stderr"
        },
        {
          "output_type": "stream",
          "text": [
            "INFO:tensorflow:*** Available Device: _DeviceAttributes(/job:worker/replica:0/task:0/device:TPU:2, TPU, 0, 0)\n"
          ],
          "name": "stdout"
        },
        {
          "output_type": "stream",
          "text": [
            "INFO:tensorflow:*** Available Device: _DeviceAttributes(/job:worker/replica:0/task:0/device:TPU:2, TPU, 0, 0)\n"
          ],
          "name": "stderr"
        },
        {
          "output_type": "stream",
          "text": [
            "INFO:tensorflow:*** Available Device: _DeviceAttributes(/job:worker/replica:0/task:0/device:TPU:3, TPU, 0, 0)\n"
          ],
          "name": "stdout"
        },
        {
          "output_type": "stream",
          "text": [
            "INFO:tensorflow:*** Available Device: _DeviceAttributes(/job:worker/replica:0/task:0/device:TPU:3, TPU, 0, 0)\n"
          ],
          "name": "stderr"
        },
        {
          "output_type": "stream",
          "text": [
            "INFO:tensorflow:*** Available Device: _DeviceAttributes(/job:worker/replica:0/task:0/device:TPU:4, TPU, 0, 0)\n"
          ],
          "name": "stdout"
        },
        {
          "output_type": "stream",
          "text": [
            "INFO:tensorflow:*** Available Device: _DeviceAttributes(/job:worker/replica:0/task:0/device:TPU:4, TPU, 0, 0)\n"
          ],
          "name": "stderr"
        },
        {
          "output_type": "stream",
          "text": [
            "INFO:tensorflow:*** Available Device: _DeviceAttributes(/job:worker/replica:0/task:0/device:TPU:5, TPU, 0, 0)\n"
          ],
          "name": "stdout"
        },
        {
          "output_type": "stream",
          "text": [
            "INFO:tensorflow:*** Available Device: _DeviceAttributes(/job:worker/replica:0/task:0/device:TPU:5, TPU, 0, 0)\n"
          ],
          "name": "stderr"
        },
        {
          "output_type": "stream",
          "text": [
            "INFO:tensorflow:*** Available Device: _DeviceAttributes(/job:worker/replica:0/task:0/device:TPU:6, TPU, 0, 0)\n"
          ],
          "name": "stdout"
        },
        {
          "output_type": "stream",
          "text": [
            "INFO:tensorflow:*** Available Device: _DeviceAttributes(/job:worker/replica:0/task:0/device:TPU:6, TPU, 0, 0)\n"
          ],
          "name": "stderr"
        },
        {
          "output_type": "stream",
          "text": [
            "INFO:tensorflow:*** Available Device: _DeviceAttributes(/job:worker/replica:0/task:0/device:TPU:7, TPU, 0, 0)\n"
          ],
          "name": "stdout"
        },
        {
          "output_type": "stream",
          "text": [
            "INFO:tensorflow:*** Available Device: _DeviceAttributes(/job:worker/replica:0/task:0/device:TPU:7, TPU, 0, 0)\n"
          ],
          "name": "stderr"
        },
        {
          "output_type": "stream",
          "text": [
            "INFO:tensorflow:*** Available Device: _DeviceAttributes(/job:worker/replica:0/task:0/device:TPU_SYSTEM:0, TPU_SYSTEM, 0, 0)\n"
          ],
          "name": "stdout"
        },
        {
          "output_type": "stream",
          "text": [
            "INFO:tensorflow:*** Available Device: _DeviceAttributes(/job:worker/replica:0/task:0/device:TPU_SYSTEM:0, TPU_SYSTEM, 0, 0)\n"
          ],
          "name": "stderr"
        },
        {
          "output_type": "stream",
          "text": [
            "INFO:tensorflow:*** Available Device: _DeviceAttributes(/job:worker/replica:0/task:0/device:XLA_CPU:0, XLA_CPU, 0, 0)\n"
          ],
          "name": "stdout"
        },
        {
          "output_type": "stream",
          "text": [
            "INFO:tensorflow:*** Available Device: _DeviceAttributes(/job:worker/replica:0/task:0/device:XLA_CPU:0, XLA_CPU, 0, 0)\n"
          ],
          "name": "stderr"
        }
      ]
    },
    {
      "cell_type": "code",
      "metadata": {
        "id": "j5DY0HDbwHdB"
      },
      "source": [
        "model = load_model(\"/content/modelCNNLSTM.h5\")\n",
        "with open(\"/content/tokenizerCNNLSTM.json\") as f:\n",
        "    tokenizer = tokenizer_from_json(json.load(f))"
      ],
      "execution_count": null,
      "outputs": []
    },
    {
      "cell_type": "code",
      "metadata": {
        "id": "sODzD-6nwIzb"
      },
      "source": [
        "def jamo_split(s: str) -> str:\n",
        "    CHOSUNG_LIST = ['ㄱ', 'ㄲ', 'ㄴ', 'ㄷ', 'ㄸ', 'ㄹ', 'ㅁ', 'ㅂ', 'ㅃ', 'ㅅ', 'ㅆ', 'ㅇ', 'ㅈ', 'ㅉ', 'ㅊ', 'ㅋ', 'ㅌ', 'ㅍ', 'ㅎ']\n",
        "    JUNGSUNG_LIST = ['ㅏ', 'ㅐ', 'ㅑ', 'ㅒ', 'ㅓ', 'ㅔ', 'ㅕ', 'ㅖ', 'ㅗ', 'ㅘ', 'ㅙ', 'ㅚ', 'ㅛ', 'ㅜ', 'ㅝ', 'ㅞ', 'ㅟ', 'ㅠ', 'ㅡ', 'ㅢ',\n",
        "                     'ㅣ']\n",
        "    JONGSUNG_LIST = ['', 'ㄱ', 'ㄲ', 'ㄳ', 'ㄴ', 'ㄵ', 'ㄶ', 'ㄷ', 'ㄹ', 'ㄺ', 'ㄻ', 'ㄼ', 'ㄽ', 'ㄾ', 'ㄿ', 'ㅀ', 'ㅁ', 'ㅂ', 'ㅄ', 'ㅅ',\n",
        "                     'ㅆ', 'ㅇ', 'ㅈ', 'ㅊ', 'ㅋ', 'ㅌ', 'ㅍ', 'ㅎ']\n",
        "\n",
        "    s_code = ord(s)\n",
        "\n",
        "    if '가' <= s <= '힣':\n",
        "        return CHOSUNG_LIST[(s_code - 0xAC00) // (28 * 21)] \\\n",
        "               + JUNGSUNG_LIST[((s_code - 0xAC00) // 28) % 21] \\\n",
        "               + JONGSUNG_LIST[(s_code - 0xAC00) % 28]\n",
        "    else:\n",
        "        return s"
      ],
      "execution_count": null,
      "outputs": []
    },
    {
      "cell_type": "code",
      "metadata": {
        "id": "tNKs0GYjwKBs"
      },
      "source": [
        "def string_jamo_split(s: str) -> str:\n",
        "    result = \"\"\n",
        "    for i in list(s.strip()):\n",
        "        result += jamo_split(i)\n",
        "\n",
        "    return result\n"
      ],
      "execution_count": null,
      "outputs": []
    },
    {
      "cell_type": "markdown",
      "metadata": {
        "id": "c12qDLxa7hMw"
      },
      "source": [
        "# 데이터셋 \n"
      ]
    },
    {
      "cell_type": "code",
      "metadata": {
        "id": "VIJlnbj9wLYW"
      },
      "source": [
        "dataset = pd.read_csv(\"/content/newsCommentSplit0.csv\")"
      ],
      "execution_count": null,
      "outputs": []
    },
    {
      "cell_type": "code",
      "metadata": {
        "id": "tFanZ2ytwRXJ"
      },
      "source": [
        "dataset['comment'] = dataset['comment'].str.replace(\"[^ㄱ-ㅎㅏ-ㅣ가-힣 ]\", \"\")\n",
        "dataset['comment'] = dataset['comment'].replace(\"\", np.nan)\n",
        "dataset.dropna(inplace=True)\n",
        "dataset.drop_duplicates(subset=['comment'], inplace=True)\n",
        "X= dataset['comment']"
      ],
      "execution_count": null,
      "outputs": []
    },
    {
      "cell_type": "code",
      "metadata": {
        "colab": {
          "base_uri": "https://localhost:8080/"
        },
        "id": "_i7vGB5OwUm2",
        "outputId": "aee559c9-9dea-408a-f2e1-d8b0045a7d93"
      },
      "source": [
        "X_encoded = []\n",
        "\n",
        "for i in X:\n",
        "    X_encoded.append(string_jamo_split(i))\n",
        "\n",
        "X_encoded = np.array(tokenizer.texts_to_sequences(X_encoded))\n",
        "X_encoded = pad_sequences(X_encoded, maxlen=500)"
      ],
      "execution_count": null,
      "outputs": [
        {
          "output_type": "stream",
          "text": [
            "/usr/local/lib/python3.7/dist-packages/ipykernel_launcher.py:6: VisibleDeprecationWarning: Creating an ndarray from ragged nested sequences (which is a list-or-tuple of lists-or-tuples-or ndarrays with different lengths or shapes) is deprecated. If you meant to do this, you must specify 'dtype=object' when creating the ndarray\n",
            "  \n"
          ],
          "name": "stderr"
        }
      ]
    },
    {
      "cell_type": "code",
      "metadata": {
        "colab": {
          "base_uri": "https://localhost:8080/"
        },
        "id": "YLxTmR8QyI0h",
        "outputId": "551fc8bb-b694-4093-eebe-33a5c3b7344d"
      },
      "source": [
        "X_encoded"
      ],
      "execution_count": null,
      "outputs": [
        {
          "output_type": "execute_result",
          "data": {
            "text/plain": [
              "array([[ 0,  0,  0, ..., 37, 16,  3],\n",
              "       [ 0,  0,  0, ...,  6, 13,  4],\n",
              "       [ 0,  0,  0, ..., 12, 21, 21],\n",
              "       ...,\n",
              "       [ 0,  0,  0, ...,  1, 15, 18],\n",
              "       [ 0,  0,  0, ...,  7, 27,  4],\n",
              "       [ 0,  0,  0, ...,  3,  5,  4]], dtype=int32)"
            ]
          },
          "metadata": {
            "tags": []
          },
          "execution_count": 17
        }
      ]
    },
    {
      "cell_type": "code",
      "metadata": {
        "id": "DLlVdN7RwWPD"
      },
      "source": [
        "y_predict = model.predict(X_encoded)"
      ],
      "execution_count": null,
      "outputs": []
    },
    {
      "cell_type": "code",
      "metadata": {
        "colab": {
          "base_uri": "https://localhost:8080/",
          "height": 370
        },
        "id": "O8UbQ5Q6261u",
        "outputId": "41af6a2f-ad5b-48f0-badf-95abf7bf6676"
      },
      "source": [
        "plt.hist(y_predict)"
      ],
      "execution_count": null,
      "outputs": [
        {
          "output_type": "execute_result",
          "data": {
            "text/plain": [
              "(array([ 269.,  219.,  280.,  346.,  465.,  707.,  968., 1234., 1351.,\n",
              "        4151.]),\n",
              " array([0.05923182, 0.14842564, 0.23761944, 0.32681325, 0.41600707,\n",
              "        0.50520086, 0.5943947 , 0.6835885 , 0.7727823 , 0.86197615,\n",
              "        0.95116997], dtype=float32),\n",
              " <a list of 10 Patch objects>)"
            ]
          },
          "metadata": {
            "tags": []
          },
          "execution_count": 49
        },
        {
          "output_type": "display_data",
          "data": {
            "image/png": "[encoded data removed]",
            "text/plain": [
              "<Figure size 432x288 with 1 Axes>"
            ]
          },
          "metadata": {
            "tags": [],
            "needs_background": "light"
          }
        }
      ]
    },
    {
      "cell_type": "code",
      "metadata": {
        "colab": {
          "base_uri": "https://localhost:8080/"
        },
        "id": "7AoSjF8c1e9t",
        "outputId": "d792bc59-aa15-4a60-a8d2-5927ecffafe4"
      },
      "source": [
        "y_predict[:20]"
      ],
      "execution_count": null,
      "outputs": [
        {
          "output_type": "execute_result",
          "data": {
            "text/plain": [
              "array([[0.28892463],\n",
              "       [0.7715573 ],\n",
              "       [0.92307734],\n",
              "       [0.7454224 ],\n",
              "       [0.78164744],\n",
              "       [0.55345327],\n",
              "       [0.9232629 ],\n",
              "       [0.11812019],\n",
              "       [0.89549387],\n",
              "       [0.92407566],\n",
              "       [0.9224493 ],\n",
              "       [0.9074918 ],\n",
              "       [0.92504096],\n",
              "       [0.9177755 ],\n",
              "       [0.75965476],\n",
              "       [0.92117286],\n",
              "       [0.94103634],\n",
              "       [0.84131706],\n",
              "       [0.9250678 ],\n",
              "       [0.920243  ]], dtype=float32)"
            ]
          },
          "metadata": {
            "tags": []
          },
          "execution_count": 42
        }
      ]
    },
    {
      "cell_type": "code",
      "metadata": {
        "colab": {
          "base_uri": "https://localhost:8080/"
        },
        "id": "Np044qha1rO_",
        "outputId": "d0951949-9234-43d6-b5bf-dee9954e1e4d"
      },
      "source": [
        "X[:20]"
      ],
      "execution_count": null,
      "outputs": [
        {
          "output_type": "execute_result",
          "data": {
            "text/plain": [
              "0                                  우리에게 북한은 꼭 없애야 할 적일뿐\n",
              "1                      문재앙 탄핵 원하면 추천 눌러주세요 여론의 힘을 보여줍시다\n",
              "2                           김정은이 트럼프를 개호구 문재인으로 착각했나봄ㅋㅋ\n",
              "3                                     부칸이 밑장빼기하다가 딱 걸렸군\n",
              "4                북한 욕하면 친일이란 그딴 사고방식은 김일성 종합대학에서 배웠니 ㅋㅋ\n",
              "5                            처음부터 북한은 비핵화할 생각이 없다고 보았는데\n",
              "6      ㅋㅋㅋ 북한 핵돼지 시간 넘게 개고생하면서 기차 타고 왔는데 트럼프가 빅엿 날리네ㅋㅋㅋ\n",
              "7                                    문모씨의 북한팔이도 이제 끝이네요\n",
              "8             뻔하지머 트럼프 비핵화 플랜 내놔라 김정은 우선 경제 제재부터 풀어달라 끝\n",
              "9             문재인 작살났네 개성공단 개박살났네 금강산 불났네 남북철도연결은 폭탄맞았네\n",
              "10                                          속보  문재인 통곡중\n",
              "11    애초부터 북한은 핵 동결로 핵보유국 인정받고 미국과 평화협정체결하고 그명분으로 주한...\n",
              "12                     조지자 문재인이랑 공산당 들 문재앙 지금 개똥줄타겠넼ㅋㅋㅋ\n",
              "13                              달창 좌좀들 단체멘붕ㅋㅋ어 이게 아닌데ㅋㅋ\n",
              "14    보나마나 핵보유하고 종전선언 해달라했겠지 그러면 한국도 베트남처럼 공산화될꺼 뻔한데...\n",
              "15    이래도 문재인은 안변해 진짜 최악이지 김정은은 죽어도 안변하고 그를 신봉하는 문재인...\n",
              "16    네들황교안대행은 천운이 따르는 사람이야국무총리 인사청문회때 황교안만큼은 절대 안된다...\n",
              "17                                        ㅋㅋ는 왜 뿌신거냐 ㅋㅋ\n",
              "18                                  문재인 똥됐네 하기야 원래 똥이었지\n",
              "19          드디어 문재인은 경제 외교 안보 하는 정책마다 말아먹는 그랜드 슬램 달성 했네\n",
              "Name: comment, dtype: object"
            ]
          },
          "metadata": {
            "tags": []
          },
          "execution_count": 43
        }
      ]
    },
    {
      "cell_type": "code",
      "metadata": {
        "id": "vnJlQIpp1-LP"
      },
      "source": [
        "dataset['label_proba'] = y_predict"
      ],
      "execution_count": null,
      "outputs": []
    },
    {
      "cell_type": "code",
      "metadata": {
        "colab": {
          "base_uri": "https://localhost:8080/",
          "height": 639
        },
        "id": "J2Esyb2l2MJh",
        "outputId": "17e0f932-a470-4dd4-9073-1039103c2b4f"
      },
      "source": [
        "dataset[:20]"
      ],
      "execution_count": null,
      "outputs": [
        {
          "output_type": "execute_result",
          "data": {
            "text/html": [
              "<div>\n",
              "<style scoped>\n",
              "    .dataframe tbody tr th:only-of-type {\n",
              "        vertical-align: middle;\n",
              "    }\n",
              "\n",
              "    .dataframe tbody tr th {\n",
              "        vertical-align: top;\n",
              "    }\n",
              "\n",
              "    .dataframe thead th {\n",
              "        text-align: right;\n",
              "    }\n",
              "</style>\n",
              "<table border=\"1\" class=\"dataframe\">\n",
              "  <thead>\n",
              "    <tr style=\"text-align: right;\">\n",
              "      <th></th>\n",
              "      <th>comment</th>\n",
              "      <th>label_proba</th>\n",
              "    </tr>\n",
              "  </thead>\n",
              "  <tbody>\n",
              "    <tr>\n",
              "      <th>0</th>\n",
              "      <td>우리에게 북한은 꼭 없애야 할 적일뿐</td>\n",
              "      <td>0.288925</td>\n",
              "    </tr>\n",
              "    <tr>\n",
              "      <th>1</th>\n",
              "      <td>문재앙 탄핵 원하면 추천 눌러주세요 여론의 힘을 보여줍시다</td>\n",
              "      <td>0.771557</td>\n",
              "    </tr>\n",
              "    <tr>\n",
              "      <th>2</th>\n",
              "      <td>김정은이 트럼프를 개호구 문재인으로 착각했나봄ㅋㅋ</td>\n",
              "      <td>0.923077</td>\n",
              "    </tr>\n",
              "    <tr>\n",
              "      <th>3</th>\n",
              "      <td>부칸이 밑장빼기하다가 딱 걸렸군</td>\n",
              "      <td>0.745422</td>\n",
              "    </tr>\n",
              "    <tr>\n",
              "      <th>4</th>\n",
              "      <td>북한 욕하면 친일이란 그딴 사고방식은 김일성 종합대학에서 배웠니 ㅋㅋ</td>\n",
              "      <td>0.781647</td>\n",
              "    </tr>\n",
              "    <tr>\n",
              "      <th>5</th>\n",
              "      <td>처음부터 북한은 비핵화할 생각이 없다고 보았는데</td>\n",
              "      <td>0.553453</td>\n",
              "    </tr>\n",
              "    <tr>\n",
              "      <th>6</th>\n",
              "      <td>ㅋㅋㅋ 북한 핵돼지 시간 넘게 개고생하면서 기차 타고 왔는데 트럼프가 빅엿 날리네ㅋㅋㅋ</td>\n",
              "      <td>0.923263</td>\n",
              "    </tr>\n",
              "    <tr>\n",
              "      <th>7</th>\n",
              "      <td>문모씨의 북한팔이도 이제 끝이네요</td>\n",
              "      <td>0.118120</td>\n",
              "    </tr>\n",
              "    <tr>\n",
              "      <th>8</th>\n",
              "      <td>뻔하지머 트럼프 비핵화 플랜 내놔라 김정은 우선 경제 제재부터 풀어달라 끝</td>\n",
              "      <td>0.895494</td>\n",
              "    </tr>\n",
              "    <tr>\n",
              "      <th>9</th>\n",
              "      <td>문재인 작살났네 개성공단 개박살났네 금강산 불났네 남북철도연결은 폭탄맞았네</td>\n",
              "      <td>0.924076</td>\n",
              "    </tr>\n",
              "    <tr>\n",
              "      <th>10</th>\n",
              "      <td>속보  문재인 통곡중</td>\n",
              "      <td>0.922449</td>\n",
              "    </tr>\n",
              "    <tr>\n",
              "      <th>11</th>\n",
              "      <td>애초부터 북한은 핵 동결로 핵보유국 인정받고 미국과 평화협정체결하고 그명분으로 주한...</td>\n",
              "      <td>0.907492</td>\n",
              "    </tr>\n",
              "    <tr>\n",
              "      <th>12</th>\n",
              "      <td>조지자 문재인이랑 공산당 들 문재앙 지금 개똥줄타겠넼ㅋㅋㅋ</td>\n",
              "      <td>0.925041</td>\n",
              "    </tr>\n",
              "    <tr>\n",
              "      <th>13</th>\n",
              "      <td>달창 좌좀들 단체멘붕ㅋㅋ어 이게 아닌데ㅋㅋ</td>\n",
              "      <td>0.917776</td>\n",
              "    </tr>\n",
              "    <tr>\n",
              "      <th>14</th>\n",
              "      <td>보나마나 핵보유하고 종전선언 해달라했겠지 그러면 한국도 베트남처럼 공산화될꺼 뻔한데...</td>\n",
              "      <td>0.759655</td>\n",
              "    </tr>\n",
              "    <tr>\n",
              "      <th>15</th>\n",
              "      <td>이래도 문재인은 안변해 진짜 최악이지 김정은은 죽어도 안변하고 그를 신봉하는 문재인...</td>\n",
              "      <td>0.921173</td>\n",
              "    </tr>\n",
              "    <tr>\n",
              "      <th>16</th>\n",
              "      <td>네들황교안대행은 천운이 따르는 사람이야국무총리 인사청문회때 황교안만큼은 절대 안된다...</td>\n",
              "      <td>0.941036</td>\n",
              "    </tr>\n",
              "    <tr>\n",
              "      <th>17</th>\n",
              "      <td>ㅋㅋ는 왜 뿌신거냐 ㅋㅋ</td>\n",
              "      <td>0.841317</td>\n",
              "    </tr>\n",
              "    <tr>\n",
              "      <th>18</th>\n",
              "      <td>문재인 똥됐네 하기야 원래 똥이었지</td>\n",
              "      <td>0.925068</td>\n",
              "    </tr>\n",
              "    <tr>\n",
              "      <th>19</th>\n",
              "      <td>드디어 문재인은 경제 외교 안보 하는 정책마다 말아먹는 그랜드 슬램 달성 했네</td>\n",
              "      <td>0.920243</td>\n",
              "    </tr>\n",
              "  </tbody>\n",
              "</table>\n",
              "</div>"
            ],
            "text/plain": [
              "                                              comment  label_proba\n",
              "0                                우리에게 북한은 꼭 없애야 할 적일뿐     0.288925\n",
              "1                    문재앙 탄핵 원하면 추천 눌러주세요 여론의 힘을 보여줍시다     0.771557\n",
              "2                         김정은이 트럼프를 개호구 문재인으로 착각했나봄ㅋㅋ     0.923077\n",
              "3                                   부칸이 밑장빼기하다가 딱 걸렸군     0.745422\n",
              "4              북한 욕하면 친일이란 그딴 사고방식은 김일성 종합대학에서 배웠니 ㅋㅋ     0.781647\n",
              "5                          처음부터 북한은 비핵화할 생각이 없다고 보았는데     0.553453\n",
              "6    ㅋㅋㅋ 북한 핵돼지 시간 넘게 개고생하면서 기차 타고 왔는데 트럼프가 빅엿 날리네ㅋㅋㅋ     0.923263\n",
              "7                                  문모씨의 북한팔이도 이제 끝이네요     0.118120\n",
              "8           뻔하지머 트럼프 비핵화 플랜 내놔라 김정은 우선 경제 제재부터 풀어달라 끝     0.895494\n",
              "9           문재인 작살났네 개성공단 개박살났네 금강산 불났네 남북철도연결은 폭탄맞았네     0.924076\n",
              "10                                        속보  문재인 통곡중     0.922449\n",
              "11  애초부터 북한은 핵 동결로 핵보유국 인정받고 미국과 평화협정체결하고 그명분으로 주한...     0.907492\n",
              "12                   조지자 문재인이랑 공산당 들 문재앙 지금 개똥줄타겠넼ㅋㅋㅋ     0.925041\n",
              "13                            달창 좌좀들 단체멘붕ㅋㅋ어 이게 아닌데ㅋㅋ     0.917776\n",
              "14  보나마나 핵보유하고 종전선언 해달라했겠지 그러면 한국도 베트남처럼 공산화될꺼 뻔한데...     0.759655\n",
              "15  이래도 문재인은 안변해 진짜 최악이지 김정은은 죽어도 안변하고 그를 신봉하는 문재인...     0.921173\n",
              "16  네들황교안대행은 천운이 따르는 사람이야국무총리 인사청문회때 황교안만큼은 절대 안된다...     0.941036\n",
              "17                                      ㅋㅋ는 왜 뿌신거냐 ㅋㅋ     0.841317\n",
              "18                                문재인 똥됐네 하기야 원래 똥이었지     0.925068\n",
              "19        드디어 문재인은 경제 외교 안보 하는 정책마다 말아먹는 그랜드 슬램 달성 했네     0.920243"
            ]
          },
          "metadata": {
            "tags": []
          },
          "execution_count": 53
        }
      ]
    },
    {
      "cell_type": "code",
      "metadata": {
        "id": "-QjITY164T6X"
      },
      "source": [
        "dataset.loc['label'] = 2"
      ],
      "execution_count": null,
      "outputs": []
    },
    {
      "cell_type": "code",
      "metadata": {
        "id": "EgY5cGvy3p22"
      },
      "source": [
        "dataset.loc[dataset.label_proba >= 0.9, 'label'] = 1"
      ],
      "execution_count": null,
      "outputs": []
    },
    {
      "cell_type": "code",
      "metadata": {
        "id": "engIg_3B4AIV"
      },
      "source": [
        "dataset.loc[dataset.label_proba <= 0.3, 'label'] = 0"
      ],
      "execution_count": null,
      "outputs": []
    },
    {
      "cell_type": "code",
      "metadata": {
        "colab": {
          "base_uri": "https://localhost:8080/",
          "height": 639
        },
        "id": "s2oVqkH64YgA",
        "outputId": "9f1772ac-05be-4f82-c360-8fb8bb7d1d20"
      },
      "source": [
        "dataset[:20]"
      ],
      "execution_count": null,
      "outputs": [
        {
          "output_type": "execute_result",
          "data": {
            "text/html": [
              "<div>\n",
              "<style scoped>\n",
              "    .dataframe tbody tr th:only-of-type {\n",
              "        vertical-align: middle;\n",
              "    }\n",
              "\n",
              "    .dataframe tbody tr th {\n",
              "        vertical-align: top;\n",
              "    }\n",
              "\n",
              "    .dataframe thead th {\n",
              "        text-align: right;\n",
              "    }\n",
              "</style>\n",
              "<table border=\"1\" class=\"dataframe\">\n",
              "  <thead>\n",
              "    <tr style=\"text-align: right;\">\n",
              "      <th></th>\n",
              "      <th>comment</th>\n",
              "      <th>label_proba</th>\n",
              "      <th>label</th>\n",
              "    </tr>\n",
              "  </thead>\n",
              "  <tbody>\n",
              "    <tr>\n",
              "      <th>0</th>\n",
              "      <td>우리에게 북한은 꼭 없애야 할 적일뿐</td>\n",
              "      <td>0.288925</td>\n",
              "      <td>0.0</td>\n",
              "    </tr>\n",
              "    <tr>\n",
              "      <th>1</th>\n",
              "      <td>문재앙 탄핵 원하면 추천 눌러주세요 여론의 힘을 보여줍시다</td>\n",
              "      <td>0.771557</td>\n",
              "      <td>2.0</td>\n",
              "    </tr>\n",
              "    <tr>\n",
              "      <th>2</th>\n",
              "      <td>김정은이 트럼프를 개호구 문재인으로 착각했나봄ㅋㅋ</td>\n",
              "      <td>0.923077</td>\n",
              "      <td>1.0</td>\n",
              "    </tr>\n",
              "    <tr>\n",
              "      <th>3</th>\n",
              "      <td>부칸이 밑장빼기하다가 딱 걸렸군</td>\n",
              "      <td>0.745422</td>\n",
              "      <td>2.0</td>\n",
              "    </tr>\n",
              "    <tr>\n",
              "      <th>4</th>\n",
              "      <td>북한 욕하면 친일이란 그딴 사고방식은 김일성 종합대학에서 배웠니 ㅋㅋ</td>\n",
              "      <td>0.781647</td>\n",
              "      <td>2.0</td>\n",
              "    </tr>\n",
              "    <tr>\n",
              "      <th>5</th>\n",
              "      <td>처음부터 북한은 비핵화할 생각이 없다고 보았는데</td>\n",
              "      <td>0.553453</td>\n",
              "      <td>2.0</td>\n",
              "    </tr>\n",
              "    <tr>\n",
              "      <th>6</th>\n",
              "      <td>ㅋㅋㅋ 북한 핵돼지 시간 넘게 개고생하면서 기차 타고 왔는데 트럼프가 빅엿 날리네ㅋㅋㅋ</td>\n",
              "      <td>0.923263</td>\n",
              "      <td>1.0</td>\n",
              "    </tr>\n",
              "    <tr>\n",
              "      <th>7</th>\n",
              "      <td>문모씨의 북한팔이도 이제 끝이네요</td>\n",
              "      <td>0.118120</td>\n",
              "      <td>0.0</td>\n",
              "    </tr>\n",
              "    <tr>\n",
              "      <th>8</th>\n",
              "      <td>뻔하지머 트럼프 비핵화 플랜 내놔라 김정은 우선 경제 제재부터 풀어달라 끝</td>\n",
              "      <td>0.895494</td>\n",
              "      <td>2.0</td>\n",
              "    </tr>\n",
              "    <tr>\n",
              "      <th>9</th>\n",
              "      <td>문재인 작살났네 개성공단 개박살났네 금강산 불났네 남북철도연결은 폭탄맞았네</td>\n",
              "      <td>0.924076</td>\n",
              "      <td>1.0</td>\n",
              "    </tr>\n",
              "    <tr>\n",
              "      <th>10</th>\n",
              "      <td>속보  문재인 통곡중</td>\n",
              "      <td>0.922449</td>\n",
              "      <td>1.0</td>\n",
              "    </tr>\n",
              "    <tr>\n",
              "      <th>11</th>\n",
              "      <td>애초부터 북한은 핵 동결로 핵보유국 인정받고 미국과 평화협정체결하고 그명분으로 주한...</td>\n",
              "      <td>0.907492</td>\n",
              "      <td>1.0</td>\n",
              "    </tr>\n",
              "    <tr>\n",
              "      <th>12</th>\n",
              "      <td>조지자 문재인이랑 공산당 들 문재앙 지금 개똥줄타겠넼ㅋㅋㅋ</td>\n",
              "      <td>0.925041</td>\n",
              "      <td>1.0</td>\n",
              "    </tr>\n",
              "    <tr>\n",
              "      <th>13</th>\n",
              "      <td>달창 좌좀들 단체멘붕ㅋㅋ어 이게 아닌데ㅋㅋ</td>\n",
              "      <td>0.917776</td>\n",
              "      <td>1.0</td>\n",
              "    </tr>\n",
              "    <tr>\n",
              "      <th>14</th>\n",
              "      <td>보나마나 핵보유하고 종전선언 해달라했겠지 그러면 한국도 베트남처럼 공산화될꺼 뻔한데...</td>\n",
              "      <td>0.759655</td>\n",
              "      <td>2.0</td>\n",
              "    </tr>\n",
              "    <tr>\n",
              "      <th>15</th>\n",
              "      <td>이래도 문재인은 안변해 진짜 최악이지 김정은은 죽어도 안변하고 그를 신봉하는 문재인...</td>\n",
              "      <td>0.921173</td>\n",
              "      <td>1.0</td>\n",
              "    </tr>\n",
              "    <tr>\n",
              "      <th>16</th>\n",
              "      <td>네들황교안대행은 천운이 따르는 사람이야국무총리 인사청문회때 황교안만큼은 절대 안된다...</td>\n",
              "      <td>0.941036</td>\n",
              "      <td>1.0</td>\n",
              "    </tr>\n",
              "    <tr>\n",
              "      <th>17</th>\n",
              "      <td>ㅋㅋ는 왜 뿌신거냐 ㅋㅋ</td>\n",
              "      <td>0.841317</td>\n",
              "      <td>2.0</td>\n",
              "    </tr>\n",
              "    <tr>\n",
              "      <th>18</th>\n",
              "      <td>문재인 똥됐네 하기야 원래 똥이었지</td>\n",
              "      <td>0.925068</td>\n",
              "      <td>1.0</td>\n",
              "    </tr>\n",
              "    <tr>\n",
              "      <th>19</th>\n",
              "      <td>드디어 문재인은 경제 외교 안보 하는 정책마다 말아먹는 그랜드 슬램 달성 했네</td>\n",
              "      <td>0.920243</td>\n",
              "      <td>1.0</td>\n",
              "    </tr>\n",
              "  </tbody>\n",
              "</table>\n",
              "</div>"
            ],
            "text/plain": [
              "                                              comment  label_proba  label\n",
              "0                                우리에게 북한은 꼭 없애야 할 적일뿐     0.288925    0.0\n",
              "1                    문재앙 탄핵 원하면 추천 눌러주세요 여론의 힘을 보여줍시다     0.771557    2.0\n",
              "2                         김정은이 트럼프를 개호구 문재인으로 착각했나봄ㅋㅋ     0.923077    1.0\n",
              "3                                   부칸이 밑장빼기하다가 딱 걸렸군     0.745422    2.0\n",
              "4              북한 욕하면 친일이란 그딴 사고방식은 김일성 종합대학에서 배웠니 ㅋㅋ     0.781647    2.0\n",
              "5                          처음부터 북한은 비핵화할 생각이 없다고 보았는데     0.553453    2.0\n",
              "6    ㅋㅋㅋ 북한 핵돼지 시간 넘게 개고생하면서 기차 타고 왔는데 트럼프가 빅엿 날리네ㅋㅋㅋ     0.923263    1.0\n",
              "7                                  문모씨의 북한팔이도 이제 끝이네요     0.118120    0.0\n",
              "8           뻔하지머 트럼프 비핵화 플랜 내놔라 김정은 우선 경제 제재부터 풀어달라 끝     0.895494    2.0\n",
              "9           문재인 작살났네 개성공단 개박살났네 금강산 불났네 남북철도연결은 폭탄맞았네     0.924076    1.0\n",
              "10                                        속보  문재인 통곡중     0.922449    1.0\n",
              "11  애초부터 북한은 핵 동결로 핵보유국 인정받고 미국과 평화협정체결하고 그명분으로 주한...     0.907492    1.0\n",
              "12                   조지자 문재인이랑 공산당 들 문재앙 지금 개똥줄타겠넼ㅋㅋㅋ     0.925041    1.0\n",
              "13                            달창 좌좀들 단체멘붕ㅋㅋ어 이게 아닌데ㅋㅋ     0.917776    1.0\n",
              "14  보나마나 핵보유하고 종전선언 해달라했겠지 그러면 한국도 베트남처럼 공산화될꺼 뻔한데...     0.759655    2.0\n",
              "15  이래도 문재인은 안변해 진짜 최악이지 김정은은 죽어도 안변하고 그를 신봉하는 문재인...     0.921173    1.0\n",
              "16  네들황교안대행은 천운이 따르는 사람이야국무총리 인사청문회때 황교안만큼은 절대 안된다...     0.941036    1.0\n",
              "17                                      ㅋㅋ는 왜 뿌신거냐 ㅋㅋ     0.841317    2.0\n",
              "18                                문재인 똥됐네 하기야 원래 똥이었지     0.925068    1.0\n",
              "19        드디어 문재인은 경제 외교 안보 하는 정책마다 말아먹는 그랜드 슬램 달성 했네     0.920243    1.0"
            ]
          },
          "metadata": {
            "tags": []
          },
          "execution_count": 74
        }
      ]
    },
    {
      "cell_type": "code",
      "metadata": {
        "id": "v1ae4Z6J5SxC"
      },
      "source": [
        "index = dataset[dataset['label']==2].index\n",
        "labeled_dataset = dataset.drop(index)"
      ],
      "execution_count": null,
      "outputs": []
    },
    {
      "cell_type": "code",
      "metadata": {
        "id": "m6T2DD3g6Eoy"
      },
      "source": [
        "labeled_dataset.drop(['label_proba'], axis=1, inplace=True)"
      ],
      "execution_count": null,
      "outputs": []
    },
    {
      "cell_type": "code",
      "metadata": {
        "colab": {
          "base_uri": "https://localhost:8080/",
          "height": 639
        },
        "id": "jlzTqreb588h",
        "outputId": "1e247356-4fee-47b4-e367-89aca357b2e7"
      },
      "source": [
        "labeled_dataset[:20]"
      ],
      "execution_count": null,
      "outputs": [
        {
          "output_type": "execute_result",
          "data": {
            "text/html": [
              "<div>\n",
              "<style scoped>\n",
              "    .dataframe tbody tr th:only-of-type {\n",
              "        vertical-align: middle;\n",
              "    }\n",
              "\n",
              "    .dataframe tbody tr th {\n",
              "        vertical-align: top;\n",
              "    }\n",
              "\n",
              "    .dataframe thead th {\n",
              "        text-align: right;\n",
              "    }\n",
              "</style>\n",
              "<table border=\"1\" class=\"dataframe\">\n",
              "  <thead>\n",
              "    <tr style=\"text-align: right;\">\n",
              "      <th></th>\n",
              "      <th>comment</th>\n",
              "      <th>label</th>\n",
              "    </tr>\n",
              "  </thead>\n",
              "  <tbody>\n",
              "    <tr>\n",
              "      <th>0</th>\n",
              "      <td>우리에게 북한은 꼭 없애야 할 적일뿐</td>\n",
              "      <td>0.0</td>\n",
              "    </tr>\n",
              "    <tr>\n",
              "      <th>2</th>\n",
              "      <td>김정은이 트럼프를 개호구 문재인으로 착각했나봄ㅋㅋ</td>\n",
              "      <td>1.0</td>\n",
              "    </tr>\n",
              "    <tr>\n",
              "      <th>6</th>\n",
              "      <td>ㅋㅋㅋ 북한 핵돼지 시간 넘게 개고생하면서 기차 타고 왔는데 트럼프가 빅엿 날리네ㅋㅋㅋ</td>\n",
              "      <td>1.0</td>\n",
              "    </tr>\n",
              "    <tr>\n",
              "      <th>7</th>\n",
              "      <td>문모씨의 북한팔이도 이제 끝이네요</td>\n",
              "      <td>0.0</td>\n",
              "    </tr>\n",
              "    <tr>\n",
              "      <th>9</th>\n",
              "      <td>문재인 작살났네 개성공단 개박살났네 금강산 불났네 남북철도연결은 폭탄맞았네</td>\n",
              "      <td>1.0</td>\n",
              "    </tr>\n",
              "    <tr>\n",
              "      <th>10</th>\n",
              "      <td>속보  문재인 통곡중</td>\n",
              "      <td>1.0</td>\n",
              "    </tr>\n",
              "    <tr>\n",
              "      <th>11</th>\n",
              "      <td>애초부터 북한은 핵 동결로 핵보유국 인정받고 미국과 평화협정체결하고 그명분으로 주한...</td>\n",
              "      <td>1.0</td>\n",
              "    </tr>\n",
              "    <tr>\n",
              "      <th>12</th>\n",
              "      <td>조지자 문재인이랑 공산당 들 문재앙 지금 개똥줄타겠넼ㅋㅋㅋ</td>\n",
              "      <td>1.0</td>\n",
              "    </tr>\n",
              "    <tr>\n",
              "      <th>13</th>\n",
              "      <td>달창 좌좀들 단체멘붕ㅋㅋ어 이게 아닌데ㅋㅋ</td>\n",
              "      <td>1.0</td>\n",
              "    </tr>\n",
              "    <tr>\n",
              "      <th>15</th>\n",
              "      <td>이래도 문재인은 안변해 진짜 최악이지 김정은은 죽어도 안변하고 그를 신봉하는 문재인...</td>\n",
              "      <td>1.0</td>\n",
              "    </tr>\n",
              "    <tr>\n",
              "      <th>16</th>\n",
              "      <td>네들황교안대행은 천운이 따르는 사람이야국무총리 인사청문회때 황교안만큼은 절대 안된다...</td>\n",
              "      <td>1.0</td>\n",
              "    </tr>\n",
              "    <tr>\n",
              "      <th>18</th>\n",
              "      <td>문재인 똥됐네 하기야 원래 똥이었지</td>\n",
              "      <td>1.0</td>\n",
              "    </tr>\n",
              "    <tr>\n",
              "      <th>19</th>\n",
              "      <td>드디어 문재인은 경제 외교 안보 하는 정책마다 말아먹는 그랜드 슬램 달성 했네</td>\n",
              "      <td>1.0</td>\n",
              "    </tr>\n",
              "    <tr>\n",
              "      <th>21</th>\n",
              "      <td>보수정권이 툭하면 북한 이용한다던 현 정권이 사실은 더 북한을 이용하고 있다 방법이...</td>\n",
              "      <td>1.0</td>\n",
              "    </tr>\n",
              "    <tr>\n",
              "      <th>26</th>\n",
              "      <td>국민들이여 나라 안보까지 넘겨준 문죄인을 처벌하쟈</td>\n",
              "      <td>1.0</td>\n",
              "    </tr>\n",
              "    <tr>\n",
              "      <th>29</th>\n",
              "      <td>어제 설레발 떨던 머저리들 마치 통일이 앞에 온듯 깝쳐대더니 ㅉㅉ 비핵화가 무슨 한...</td>\n",
              "      <td>1.0</td>\n",
              "    </tr>\n",
              "    <tr>\n",
              "      <th>33</th>\n",
              "      <td>김정은과함께 국민을 속인 문재앙 탄핵해야함</td>\n",
              "      <td>1.0</td>\n",
              "    </tr>\n",
              "    <tr>\n",
              "      <th>34</th>\n",
              "      <td>북돼지새끼 밑장빼기 하다가 걸린듯</td>\n",
              "      <td>1.0</td>\n",
              "    </tr>\n",
              "    <tr>\n",
              "      <th>36</th>\n",
              "      <td>트럼프가 문재인처럼 등신인줄아나 트럼프는 확실하지않는일에 절대 달러도 안쓴다</td>\n",
              "      <td>1.0</td>\n",
              "    </tr>\n",
              "    <tr>\n",
              "      <th>37</th>\n",
              "      <td>북한몽에서 깨어나고 태영호 말이 옮았다</td>\n",
              "      <td>0.0</td>\n",
              "    </tr>\n",
              "  </tbody>\n",
              "</table>\n",
              "</div>"
            ],
            "text/plain": [
              "                                              comment  label\n",
              "0                                우리에게 북한은 꼭 없애야 할 적일뿐    0.0\n",
              "2                         김정은이 트럼프를 개호구 문재인으로 착각했나봄ㅋㅋ    1.0\n",
              "6    ㅋㅋㅋ 북한 핵돼지 시간 넘게 개고생하면서 기차 타고 왔는데 트럼프가 빅엿 날리네ㅋㅋㅋ    1.0\n",
              "7                                  문모씨의 북한팔이도 이제 끝이네요    0.0\n",
              "9           문재인 작살났네 개성공단 개박살났네 금강산 불났네 남북철도연결은 폭탄맞았네    1.0\n",
              "10                                        속보  문재인 통곡중    1.0\n",
              "11  애초부터 북한은 핵 동결로 핵보유국 인정받고 미국과 평화협정체결하고 그명분으로 주한...    1.0\n",
              "12                   조지자 문재인이랑 공산당 들 문재앙 지금 개똥줄타겠넼ㅋㅋㅋ    1.0\n",
              "13                            달창 좌좀들 단체멘붕ㅋㅋ어 이게 아닌데ㅋㅋ    1.0\n",
              "15  이래도 문재인은 안변해 진짜 최악이지 김정은은 죽어도 안변하고 그를 신봉하는 문재인...    1.0\n",
              "16  네들황교안대행은 천운이 따르는 사람이야국무총리 인사청문회때 황교안만큼은 절대 안된다...    1.0\n",
              "18                                문재인 똥됐네 하기야 원래 똥이었지    1.0\n",
              "19        드디어 문재인은 경제 외교 안보 하는 정책마다 말아먹는 그랜드 슬램 달성 했네    1.0\n",
              "21  보수정권이 툭하면 북한 이용한다던 현 정권이 사실은 더 북한을 이용하고 있다 방법이...    1.0\n",
              "26                        국민들이여 나라 안보까지 넘겨준 문죄인을 처벌하쟈    1.0\n",
              "29  어제 설레발 떨던 머저리들 마치 통일이 앞에 온듯 깝쳐대더니 ㅉㅉ 비핵화가 무슨 한...    1.0\n",
              "33                            김정은과함께 국민을 속인 문재앙 탄핵해야함    1.0\n",
              "34                                 북돼지새끼 밑장빼기 하다가 걸린듯    1.0\n",
              "36         트럼프가 문재인처럼 등신인줄아나 트럼프는 확실하지않는일에 절대 달러도 안쓴다    1.0\n",
              "37                              북한몽에서 깨어나고 태영호 말이 옮았다    0.0"
            ]
          },
          "metadata": {
            "tags": []
          },
          "execution_count": 78
        }
      ]
    },
    {
      "cell_type": "code",
      "metadata": {
        "colab": {
          "base_uri": "https://localhost:8080/"
        },
        "id": "tjC8M4R56ffJ",
        "outputId": "6e089d21-04bd-48a2-b012-afda3d02d11a"
      },
      "source": [
        "labeled_dataset.info()"
      ],
      "execution_count": null,
      "outputs": [
        {
          "output_type": "stream",
          "text": [
            "<class 'pandas.core.frame.DataFrame'>\n",
            "Index: 3622 entries, 0 to label\n",
            "Data columns (total 2 columns):\n",
            " #   Column   Non-Null Count  Dtype  \n",
            "---  ------   --------------  -----  \n",
            " 0   comment  3622 non-null   object \n",
            " 1   label    3622 non-null   float64\n",
            "dtypes: float64(1), object(1)\n",
            "memory usage: 244.9+ KB\n"
          ],
          "name": "stdout"
        }
      ]
    },
    {
      "cell_type": "markdown",
      "metadata": {
        "id": "Av5FTWP17nPZ"
      },
      "source": [
        "# 결과"
      ]
    },
    {
      "cell_type": "code",
      "metadata": {
        "id": "pKPD1f9M6k0e"
      },
      "source": [
        "labeled_dataset.to_csv(\"labledComment0.csv\", index=False)"
      ],
      "execution_count": null,
      "outputs": []
    }
  ]
}